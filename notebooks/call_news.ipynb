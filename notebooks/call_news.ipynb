{
 "cells": [
  {
   "cell_type": "code",
   "execution_count": 3,
   "metadata": {},
   "outputs": [
    {
     "name": "stdout",
     "output_type": "stream",
     "text": [
      "CPU times: user 671 µs, sys: 0 ns, total: 671 µs\n",
      "Wall time: 367 µs\n"
     ]
    },
    {
     "data": {
      "text/plain": [
       "{'data_path': '/home/thomas/ai/Heuristik/data',\n",
       " 'stocknews': 'idb1s4bymu2m7xnwttor63jhrv9axm7xu1mspz3d',\n",
       " 'alphavangate': 'ZRCDGYEJBJOHDWRJ'}"
      ]
     },
     "execution_count": 3,
     "metadata": {},
     "output_type": "execute_result"
    }
   ],
   "source": [
    "%%time\n",
    "import os\n",
    "import sys\n",
    "sys.path.insert(1, '../src')\n",
    "import heuristik\n",
    "heuristik.config(data_path = '~/ai/Heuristik/data')\n",
    "\n"
   ]
  },
  {
   "cell_type": "code",
   "execution_count": 4,
   "metadata": {},
   "outputs": [
    {
     "data": {
      "text/plain": [
       "'/home/thomas/ai/Heuristik/data'"
      ]
     },
     "execution_count": 4,
     "metadata": {},
     "output_type": "execute_result"
    }
   ],
   "source": [
    "os.environ['heuristik_data_path']"
   ]
  },
  {
   "cell_type": "code",
   "execution_count": 2,
   "metadata": {},
   "outputs": [
    {
     "name": "stdout",
     "output_type": "stream",
     "text": [
      "Loading pre-trained model: ../data/BaseModel_large.pth\n",
      "Downloading 4 pages from StockNews. This may take a minute...\n",
      "Analyzing relevance...\n",
      "----------------------------------------------------------------------------------------------------\n",
      "Date:  2020-05-26 06:06:00-04:00\n",
      "Company:  AAPL, AXP, BAC, KO\n",
      "News:\n",
      "68% of Buffett's Portfolio Is in These 4 Stocks\n",
      "According to Warren Buffett, diversification is only needed if you don't know what you're doing.\n",
      "URL:\n",
      "https://www.fool.com/investing/2020/05/26/68-of-buffetts-portfolio-is-in-these-4-stocks.aspx\n",
      "Relevance score (0-100):\n",
      "70\n",
      "----------------------------------------------------------------------------------------------------\n",
      "Date:  2020-05-26 14:18:46-04:00\n",
      "Company:  AAPL, CLX, CMG, FTNT, LEN, LEN-B, NVDA, PANW, PYPL, SHOP, ZM\n",
      "News:\n",
      "10 Overbought Stocks That Could Now Be Greatly Overvalued\n",
      "The stock market is supposed to be in a bear market now that the COVID-19 pandemic created the quickest and deepest recession of modern history.\n",
      "URL:\n",
      "https://247wallst.com/investing/2020/05/26/10-overbought-stocks-that-could-now-be-greatly-overvalued/\n",
      "Relevance score (0-100):\n",
      "63\n",
      "----------------------------------------------------------------------------------------------------\n",
      "Date:  2020-05-27 18:19:00-04:00\n",
      "Company:  AAPL, GOOG, GOOGL, FB, TWTR\n",
      "News:\n",
      "Facebook, Twitter, Apple, and Google Win Dismissal of Anti-Conservative Bias Suit\n",
      "Appeals court judges unanimously reaffirmed that online platforms' rules against hate speech don't violate the First Amendment, because tech companies aren't part of the government.\n",
      "URL:\n",
      "https://www.fool.com/investing/2020/05/27/facebook-twitter-apple-and-google-win-dismissal-of.aspx\n",
      "Relevance score (0-100):\n",
      "56\n",
      "----------------------------------------------------------------------------------------------------\n",
      "Date:  2020-06-03 04:57:23-04:00\n",
      "Company:  AAPL, PTON\n",
      "News:\n",
      "Peloton Makes Its Fitness App Available On Apple TV After Pandemic Demand Surge\n",
      "Peloton Interactive Inc. (NASDAQ: PTON) has made its fitness app available on Apple Inc.\n",
      "URL:\n",
      "https://www.benzinga.com/news/20/06/16166393/peloton-makes-its-fitness-app-available-on-apple-tv-after-pandemic-demand-surge\n",
      "Relevance score (0-100):\n",
      "54\n",
      "----------------------------------------------------------------------------------------------------\n",
      "Date:  2020-06-01 16:42:34-04:00\n",
      "Company:  AAPL, PFE, ZM, APRN, CRWD\n",
      "News:\n",
      "5 Top Stock Trades for Tuesday: AAPL, ZM, CRWD, PFE, APRN\n",
      "Zoom Video, Apple, Pfizer, Blue Apron and CrowdStrike were our top stock trades for Tuesday. That said, let's look at the charts.\n",
      "URL:\n",
      "https://investorplace.com/2020/06/5-top-stock-trades-for-tuesday-aapl-zm-crwd-pfe-aprn/\n",
      "Relevance score (0-100):\n",
      "52\n",
      "----------------------------------------------------------------------------------------------------\n",
      "Date:  2020-05-26 07:15:23-04:00\n",
      "Company:  AAPL, AMZN, FB, GOOG, GOOGL, NFLX\n",
      "News:\n",
      "'FAANG Stocks Are Strong Once Again,' Facebook, Amazon, Netflix Hit Record Highs Last Week\n",
      "Trading in the previous week suggested that the leading United States technology stocks are moving past the impact of the novel coronavirus (COVID-19) pandemic.\n",
      "URL:\n",
      "https://www.benzinga.com/news/20/05/16103196/faang-stocks-are-strong-once-again-facebook-amazon-netflix-hit-record-highs-last-week\n",
      "Relevance score (0-100):\n",
      "46\n",
      "----------------------------------------------------------------------------------------------------\n",
      "Date:  2020-06-01 17:05:35-04:00\n",
      "Company:  AAPL, TSLA, ZM\n",
      "News:\n",
      "Stocks Shrug Off Headlines; Tesla, Apple Break Out, Zoom Video Soars\n",
      "Stocks shrug off headlines; Tesla, Apple break out, Zoom Video soars before earnings.\n",
      "URL:\n",
      "https://www.youtube.com/watch?v=VX5UGmf6oK4\n",
      "Relevance score (0-100):\n",
      "43\n",
      "----------------------------------------------------------------------------------------------------\n",
      "Date:  2020-06-03 14:37:00-04:00\n",
      "Company:  AAPL, BA\n",
      "News:\n",
      "Dow Jones Up 400 Points as Boeing Stock Soars, Apple's App Store Sees Sustained Demand\n",
      "A possible activist stake in Boeing lit a fire under the stock, and an analyst sees the App Store helping to drive services growth for Apple.\n",
      "URL:\n",
      "https://www.fool.com/investing/2020/06/03/dow-jones-up-400-points-as-boeing-stock-soars-appl.aspx\n",
      "Relevance score (0-100):\n",
      "43\n",
      "----------------------------------------------------------------------------------------------------\n",
      "Date:  2020-06-04 16:52:33-04:00\n",
      "Company:  AAPL\n",
      "News:\n",
      "Hardware analyst Toni Sacconaghi on growth potential for Apple Watch\n",
      "Toni Sacconaghi, hardware analyst, joins \"Closing Bell\" to discuss his outlook on the Apple watch.\n",
      "URL:\n",
      "https://www.youtube.com/watch?v=oZJBD89jUiY\n",
      "Relevance score (0-100):\n",
      "41\n",
      "----------------------------------------------------------------------------------------------------\n",
      "Date:  2020-06-03 06:37:00-04:00\n",
      "Company:  AAPL, DLR, MKL, O, T\n",
      "News:\n",
      "Here Are My 5 Largest Stock Positions and How They've Performed in 2020\n",
      "I've made some big moves during the pandemic, and here's what I'm most heavily invested in now.\n",
      "URL:\n",
      "https://www.fool.com/investing/2020/06/03/here-are-my-5-largest-stock-positions-and-how-they.aspx\n",
      "Relevance score (0-100):\n",
      "40\n",
      "----------------------------------------------------------------------------------------------------\n",
      "Date:  2020-06-05 15:33:02-04:00\n",
      "Company:  AAPL, AMZN, PTON, Z, ZG, ZM\n",
      "News:\n",
      "Gene Munster on companies that will have a sustainable benefit longer term\n",
      "Gene Munster, founder and managing partner of Loup Ventures, joins 'Power Lunch' to discuss the winners and losers of the tech sector.\n",
      "URL:\n",
      "https://www.youtube.com/watch?v=QNCeWVVnAAU\n",
      "Relevance score (0-100):\n",
      "40\n",
      "----------------------------------------------------------------------------------------------------\n",
      "Date:  2020-05-27 14:57:36-04:00\n",
      "Company:  AAPL, MNST, TMUS\n",
      "News:\n",
      "3 Nasdaq-100 Stocks to Buy On the Dip For Bullish Investors\n",
      "It could be a top. But today’s market weakness looks better put to use as an opportunity to buy leading NASDAQ stocks.\n",
      "URL:\n",
      "https://investorplace.com/2020/05/3-nasdaq-100-stocks-to-buy-on-the-dip-for-bullish-investors/\n",
      "Relevance score (0-100):\n",
      "38\n",
      "----------------------------------------------------------------------------------------------------\n",
      "Date:  2020-06-05 13:55:30-04:00\n",
      "Company:  AAPL\n",
      "News:\n",
      "Apple stock heads for new record close\n",
      "Apple Inc. shares AAPL, +2.47% are up 2.6% in Friday afternoon trading and on track to record a new all-time closing high if the gains hold through the end of the session.\n",
      "URL:\n",
      "https://www.marketwatch.com/story/apple-stock-heads-for-new-record-close-2020-06-05\n",
      "Relevance score (0-100):\n",
      "37\n",
      "----------------------------------------------------------------------------------------------------\n",
      "Date:  2020-06-09 08:12:00-04:00\n",
      "Company:  AAPL, AMZN, FB, GOOG, GOOGL, NFLX\n",
      "News:\n",
      "FAANG Rally Continues as Players Cash in on Coronavirus Crisis\n",
      "While most industries have taken a beating due to the coronavirus outbreak, FAANG stocks have not only survived the pandemic but also put up a great show.\n",
      "URL:\n",
      "http://www.zacks.com/stock/news/973467/faang-rally-continues-as-players-cash-in-on-coronavirus-crisis\n",
      "Relevance score (0-100):\n",
      "36\n",
      "----------------------------------------------------------------------------------------------------\n",
      "Date:  2020-05-26 13:40:25-04:00\n",
      "Company:  AAPL\n",
      "News:\n",
      "Will Apple Stock Reward Its Newest Big Investor?\n",
      "As the markets recover, Apple Inc. (NASDAQ: AAPL) is back near its all-time highs.\n",
      "URL:\n",
      "https://247wallst.com/technology-3/2020/05/26/will-apple-stock-reward-its-newest-big-investor/\n",
      "Relevance score (0-100):\n",
      "35\n",
      "----------------------------------------------------------------------------------------------------\n",
      "Date:  2020-05-26 07:51:00-04:00\n",
      "Company:  AAPL, AMZN, FB, GOOG, GOOGL, NFLX\n",
      "News:\n",
      "How FAANG Stocks Are Defying the Coronavirus Bloodbath\n",
      "Facebook, Inc. (FB) Apple (AAPL), Amazon.com, Inc.\n",
      "URL:\n",
      "http://www.zacks.com/stock/news/944652/how-faang-stocks-are-defying-the-coronavirus-bloodbath\n",
      "Relevance score (0-100):\n",
      "34\n",
      "----------------------------------------------------------------------------------------------------\n",
      "Date:  2020-06-05 10:00:00-04:00\n",
      "Company:  AAPL\n",
      "News:\n",
      "The Smartphone Market Is Expected to Tank 12% This Year Thanks to COVID-19\n",
      "The pandemic will hurt smartphone demand for the rest of the year.\n",
      "URL:\n",
      "https://www.fool.com/investing/2020/06/05/the-smartphone-market-is-expected-to-tank-12-this.aspx\n",
      "Relevance score (0-100):\n",
      "33\n",
      "----------------------------------------------------------------------------------------------------\n",
      "Date:  2020-05-29 13:19:34-04:00\n",
      "Company:  AAPL, BRK-A, BRK-B, COST, GILD, PNC, QRVO, TGT, WMT, WORK\n",
      "News:\n",
      "Is it safe to trim Apple for some profit? and more #AskHalftime\n",
      "The \"Halftime Report\" traders answer viewer questions in #AskHalftime.\n",
      "URL:\n",
      "https://www.youtube.com/watch?v=4L57Cqgwp8w\n",
      "Relevance score (0-100):\n",
      "32\n",
      "----------------------------------------------------------------------------------------------------\n",
      "Date:  2020-06-08 10:45:20-04:00\n",
      "Company:  AAPL\n",
      "News:\n",
      "Apple Stock Recovers From Pandemic With Record High\n",
      "It’s official. Apple (NASDAQ: AAPL) has shaken off the coronavirus.\n",
      "URL:\n",
      "https://247wallst.com/technology-3/2020/06/08/apple-stock-recovers-from-pandemic-with-record-high/\n",
      "Relevance score (0-100):\n",
      "32\n",
      "----------------------------------------------------------------------------------------------------\n",
      "Date:  2020-05-30 11:31:31-04:00\n",
      "Company:  AAPL\n",
      "News:\n",
      "Why Is Apple (AAPL) Up 8.2% Since Last Earnings Report?\n",
      "Apple (AAPL) reported earnings 30 days ago. What's next for the stock?\n",
      "URL:\n",
      "http://www.zacks.com/stock/news/954211/why-is-apple-aapl-up-82-since-last-earnings-report\n",
      "Relevance score (0-100):\n",
      "31\n",
      "----------------------------------------------------------------------------------------------------\n"
     ]
    }
   ],
   "source": [
    "\n",
    "heuristik.recent_news(items = 20,name = 'all')\n",
    "\n",
    "heuristik.recent_news(items = 20,name = 'AAPL')"
   ]
  },
  {
   "cell_type": "code",
   "execution_count": 6,
   "metadata": {},
   "outputs": [],
   "source": [
    "import json\n",
    "import os"
   ]
  },
  {
   "cell_type": "code",
   "execution_count": 17,
   "metadata": {},
   "outputs": [
    {
     "name": "stdout",
     "output_type": "stream",
     "text": [
      "/home/thomas/ai/Heuristik/src/heuristik.py\n"
     ]
    }
   ],
   "source": [
    "\n",
    "print(os.path.abspath(heuristik.__file__))"
   ]
  },
  {
   "cell_type": "code",
   "execution_count": 40,
   "metadata": {},
   "outputs": [],
   "source": [
    "src_path, _ = os.path.split(os.path.abspath(heuristik.__file__))\n",
    "data_path = os.path.abspath(os.path.join(src_path, '..','data'))"
   ]
  },
  {
   "cell_type": "code",
   "execution_count": 39,
   "metadata": {},
   "outputs": [
    {
     "data": {
      "text/plain": [
       "'/home/thomas/ai/Heuristik/data'"
      ]
     },
     "execution_count": 39,
     "metadata": {},
     "output_type": "execute_result"
    }
   ],
   "source": [
    "os.path.abspath(os.path.join(src_path, '..','data'))"
   ]
  },
  {
   "cell_type": "code",
   "execution_count": 41,
   "metadata": {},
   "outputs": [
    {
     "data": {
      "text/plain": [
       "'/home/thomas/ai/Heuristik/data'"
      ]
     },
     "execution_count": 41,
     "metadata": {},
     "output_type": "execute_result"
    }
   ],
   "source": [
    "data_path"
   ]
  },
  {
   "cell_type": "code",
   "execution_count": 50,
   "metadata": {},
   "outputs": [
    {
     "data": {
      "text/plain": [
       "True"
      ]
     },
     "execution_count": 50,
     "metadata": {},
     "output_type": "execute_result"
    }
   ],
   "source": [
    "os.path.exists('/home/thomas/ai/Heuristik/keys.json')"
   ]
  },
  {
   "cell_type": "code",
   "execution_count": 62,
   "metadata": {},
   "outputs": [],
   "source": [
    "keys_file = open('/home/thomas/ai/Heuristik/kesys.json', 'w')\n",
    "\n",
    "json.dump({'dump_test':1},keys_file)"
   ]
  },
  {
   "cell_type": "code",
   "execution_count": 64,
   "metadata": {},
   "outputs": [],
   "source": [
    "with open('/home/thomas/ai/Heuristik/kessys.json', 'w') as outfile:\n",
    "    json.dump({'dump_test':1}, outfile)"
   ]
  },
  {
   "cell_type": "code",
   "execution_count": null,
   "metadata": {},
   "outputs": [],
   "source": []
  }
 ],
 "metadata": {
  "kernelspec": {
   "display_name": "Python 3",
   "language": "python",
   "name": "python3"
  },
  "language_info": {
   "codemirror_mode": {
    "name": "ipython",
    "version": 3
   },
   "file_extension": ".py",
   "mimetype": "text/x-python",
   "name": "python",
   "nbconvert_exporter": "python",
   "pygments_lexer": "ipython3",
   "version": "3.8.3"
  }
 },
 "nbformat": 4,
 "nbformat_minor": 4
}
